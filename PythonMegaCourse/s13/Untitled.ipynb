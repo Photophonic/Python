{
 "cells": [
  {
   "cell_type": "code",
   "execution_count": null,
   "id": "d1038514-7854-4798-a84e-287bd4213570",
   "metadata": {},
   "outputs": [],
   "source": []
  }
 ],
 "metadata": {
  "kernelspec": {
   "display_name": "",
   "name": ""
  },
  "language_info": {
   "name": ""
  }
 },
 "nbformat": 4,
 "nbformat_minor": 5
}
