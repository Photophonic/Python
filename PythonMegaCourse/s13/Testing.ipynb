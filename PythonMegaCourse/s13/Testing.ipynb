{
 "cells": [
  {
   "cell_type": "code",
   "execution_count": 3,
   "id": "796f6388-8762-49d8-a5c0-3b63adc0c19a",
   "metadata": {},
   "outputs": [
    {
     "name": "stdout",
     "output_type": "stream",
     "text": [
      "1\n",
      "2\n"
     ]
    }
   ],
   "source": [
    "print(1)\n",
    "print(2)"
   ]
  },
  {
   "cell_type": "code",
   "execution_count": 5,
   "id": "672ab571-e29d-4328-b11a-b9d43ff6b1b4",
   "metadata": {},
   "outputs": [
    {
     "name": "stdout",
     "output_type": "stream",
     "text": [
      "ctrl+enter to print\n",
      "option+enter to create a new cell\n"
     ]
    }
   ],
   "source": [
    "print('ctrl+enter to print')\n",
    "print('option+enter to create a new cell')\n"
   ]
  },
  {
   "cell_type": "code",
   "execution_count": null,
   "id": "92d34ef9-3e68-41d1-9bb2-03d38f2f380e",
   "metadata": {},
   "outputs": [],
   "source": []
  }
 ],
 "metadata": {
  "kernelspec": {
   "display_name": "Python 3 (ipykernel)",
   "language": "python",
   "name": "python3"
  },
  "language_info": {
   "codemirror_mode": {
    "name": "ipython",
    "version": 3
   },
   "file_extension": ".py",
   "mimetype": "text/x-python",
   "name": "python",
   "nbconvert_exporter": "python",
   "pygments_lexer": "ipython3",
   "version": "3.12.3"
  }
 },
 "nbformat": 4,
 "nbformat_minor": 5
}
